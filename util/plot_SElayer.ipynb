{
 "cells": [
  {
   "cell_type": "code",
   "execution_count": null,
   "metadata": {},
   "outputs": [],
   "source": [
    "import torch\n",
    "import numpy as np\n",
    "import seaborn as sns\n",
    "import matplotlib.pyplot as plt\n",
    "\n",
    "path = '../results/benchmark/SENet'\n",
    "\n",
    "sns.set()\n",
    "\n",
    "import sys\n",
    "sys.path.append('../')\n",
    "import util"
   ]
  },
  {
   "cell_type": "code",
   "execution_count": null,
   "metadata": {},
   "outputs": [],
   "source": [
    "with open(f'{path}/results.log', 'r') as f:\n",
    "    results = f.readlines()\n",
    "    \n",
    "mccs = [float(results[i].split(':')[-1].strip().replace('\\n', '')) for i in range(20)]\n",
    "aucs = [float(results[i].split(':')[-2].replace(' ', '').replace('MCC', '')) for i in range(20)]\n",
    "accs = [float(results[i].split(':')[-3].replace(' ', '').replace('AUC', '')) for i in range(20)]\n",
    "idx = np.argsort(np.array(mccs))[::-1]"
   ]
  },
  {
   "cell_type": "code",
   "execution_count": null,
   "metadata": {},
   "outputs": [],
   "source": [
    "models = []\n",
    "for i in range(20):\n",
    "    models.append(torch.load(f'{path}/model_{i}.pkl', map_location=torch.device('cpu')).double())"
   ]
  },
  {
   "cell_type": "code",
   "execution_count": null,
   "metadata": {
    "scrolled": false
   },
   "outputs": [],
   "source": [
    "def plotw1(i, ax):\n",
    "    x = np.ones(shape=(1, 128, 100), dtype='double')\n",
    "    x = torch.from_numpy(x)\n",
    "    x = models[idx[i]].layer1.se(x)\n",
    "    \n",
    "    w = x[0][:, :5].detach().numpy()\n",
    "    \n",
    "    plt.figure(figsize=(40, 1))\n",
    "    p = sns.heatmap(w.transpose(), cmap='Blues', square=True, xticklabels=False, yticklabels=False, ax=ax)\n",
    "    p.set_title(results[idx[i]])\n",
    "\n",
    "    return p\n",
    "\n",
    "fig, ax = plt.subplots(nrows=10)\n",
    "plt.subplots_adjust(top=3, bottom=1)\n",
    "fig.set_figwidth(40)\n",
    "fig.set_figheight(8)\n",
    "\n",
    "for i in range(10):\n",
    "    plotw1(i, ax[i])\n",
    "\n",
    "\n",
    "#fig.savefig(f'{path}/w1.png', bbox_inches='tight', dpi=400)"
   ]
  },
  {
   "cell_type": "code",
   "execution_count": null,
   "metadata": {
    "scrolled": false
   },
   "outputs": [],
   "source": [
    "def plotw2(i, ax):\n",
    "    x = np.ones(shape=(1, 128, 20), dtype='double')\n",
    "    x = torch.from_numpy(x)\n",
    "    x = models[idx[i]].layer2.se(x)\n",
    "    \n",
    "    w = x[0][:, :5].detach().numpy()\n",
    "    \n",
    "    plt.figure(figsize=(40, 1))\n",
    "    p = sns.heatmap(w.transpose(), cmap='Blues', square=True, xticklabels=False, yticklabels=False, ax=ax)\n",
    "    p.set_title(results[idx[i]])\n",
    "\n",
    "    return p\n",
    "\n",
    "fig, ax = plt.subplots(nrows=10)\n",
    "plt.subplots_adjust(top=4, bottom=2)\n",
    "fig.set_figwidth(40)\n",
    "fig.set_figheight(8)\n",
    "\n",
    "for i in range(10):\n",
    "    plotw2(i, ax[i])\n",
    "\n",
    "\n",
    "#fig.savefig(f'{path}/w2.png', bbox_inches='tight', dpi=400)"
   ]
  },
  {
   "cell_type": "code",
   "execution_count": null,
   "metadata": {
    "scrolled": false
   },
   "outputs": [],
   "source": [
    "def plotw3(i, ax):\n",
    "    x = np.ones(shape=(1, 64, 20), dtype='double')\n",
    "    x = torch.from_numpy(x)\n",
    "    x = models[idx[i]].layer3.se(x)\n",
    "    \n",
    "    w = x[0][:, :5].detach().numpy()\n",
    "    \n",
    "    plt.figure(figsize=(40, 1))\n",
    "    p = sns.heatmap(w.transpose(), cmap='Blues', square=True, xticklabels=False, yticklabels=False, ax=ax)\n",
    "    p.set_title(results[idx[i]])\n",
    "\n",
    "    return p\n",
    "\n",
    "fig, ax = plt.subplots(nrows=10)\n",
    "plt.subplots_adjust(top=5, bottom=1)\n",
    "fig.set_figwidth(20)\n",
    "fig.set_figheight(4)\n",
    "\n",
    "for i in range(10):\n",
    "    plotw3(i, ax[i])\n",
    "\n",
    "\n",
    "#fig.savefig(f'{path}/w3.png', bbox_inches='tight', dpi=400)"
   ]
  },
  {
   "cell_type": "code",
   "execution_count": null,
   "metadata": {},
   "outputs": [],
   "source": [
    "def plotw4(i, ax):\n",
    "    x = np.ones(shape=(1, 64, 20), dtype='double')\n",
    "    x = torch.from_numpy(x)\n",
    "    x = models[idx[i]].layer4.se(x)\n",
    "    \n",
    "    w = x[0][:, :5].detach().numpy()\n",
    "    \n",
    "    plt.figure(figsize=(40, 1))\n",
    "    p = sns.heatmap(w.transpose(), cmap='Blues', square=True, xticklabels=False, yticklabels=False, ax=ax)\n",
    "    p.set_title(results[idx[i]])\n",
    "\n",
    "    return p\n",
    "\n",
    "fig, ax = plt.subplots(nrows=10)\n",
    "plt.subplots_adjust(top=5, bottom=1)\n",
    "fig.set_figwidth(20)\n",
    "fig.set_figheight(4)\n",
    "\n",
    "for i in range(10):\n",
    "    plotw4(i, ax[i])\n",
    "\n",
    "\n",
    "#fig.savefig(f'{path}/w4.png', bbox_inches='tight', dpi=400)"
   ]
  },
  {
   "cell_type": "code",
   "execution_count": null,
   "metadata": {},
   "outputs": [],
   "source": []
  }
 ],
 "metadata": {
  "hide_input": false,
  "kernelspec": {
   "display_name": "bert",
   "language": "python",
   "name": "bert"
  },
  "language_info": {
   "codemirror_mode": {
    "name": "ipython",
    "version": 3
   },
   "file_extension": ".py",
   "mimetype": "text/x-python",
   "name": "python",
   "nbconvert_exporter": "python",
   "pygments_lexer": "ipython3",
   "version": "3.6.9"
  }
 },
 "nbformat": 4,
 "nbformat_minor": 2
}
