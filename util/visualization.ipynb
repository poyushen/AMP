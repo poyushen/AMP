{
 "cells": [
  {
   "cell_type": "code",
   "execution_count": null,
   "metadata": {},
   "outputs": [],
   "source": [
    "import numpy as np\n",
    "import torch\n",
    "import sys\n",
    "\n",
    "from keras.utils import to_categorical\n",
    "\n",
    "import matplotlib.pyplot as plt\n",
    "from matplotlib.colors import LinearSegmentedColormap\n",
    "import seaborn as sns\n",
    "sns.set()\n",
    "\n",
    "sys.path.append('../')\n",
    "import util\n",
    "\n",
    "model = torch.load('../results/benchmark/SENet_nopool/model_12.pkl', map_location=torch.device('cpu')).double()\n",
    "proteins = 'XACDEFGHIKLMNPQRSTVWY'\n"
   ]
  },
  {
   "cell_type": "code",
   "execution_count": null,
   "metadata": {},
   "outputs": [],
   "source": [
    "l = 100\n",
    "\n",
    "a = 'GIGDPVTCLKSGAICHPVFCPRRYKQIGTCGLPGTKCCKKP'\n",
    "#a = 'FFDEKCNKLKGTCKNNCGKNEELIALCQKSLKCCRTIQPSGSIID'\n",
    "#a = 'ACYCRIPACLAGERRYGTCFYRRRVWAFCC'\n",
    "\n",
    "b = [proteins.index(i) for i in a]\n",
    "raw = np.array([0]*(l-len(b))+b)\n",
    "\n",
    "x = to_categorical(raw, num_classes=21)\n",
    "\n",
    "raw = torch.from_numpy(raw).int()\n",
    "x = torch.from_numpy(x).double()\n",
    "print(x.size())\n",
    "    \n",
    "x = x.reshape(1, l, 21)\n",
    "s = np.where(raw!=0)[0][0]\n",
    "\n",
    "x = x.permute(0, 2, 1)\n",
    "x1 = model.layer1(x) # n*128*L\n",
    "print(x1.size())\n",
    "\n",
    "x2 = model.drop(x1) # n*128*(L/5)\n",
    "x2 = model.layer2(x2) # n*128*(L/5)\n",
    "print(x2.size())\n",
    "\n",
    "x3 = model.drop(x2) #n*128*(L/5)\n",
    "x3 = model.layer3(x3) # n*64*(L/5)\n",
    "print(x3.size())\n",
    "\n",
    "x4 = model.drop(x3) # n*64*(L/5)\n",
    "x4 = model.layer4(x4) # n*64*(L/5)\n",
    "print(x4.size())\n",
    "\n",
    "out = x4.reshape(64, l).detach().numpy()\n",
    "print(out.shape)\n",
    "w = model.fc.weight[1].detach().numpy()\n",
    "p = np.array([w[i]*out[i] for i in range(out.shape[0])])\n",
    "q = np.array([np.mean(p[:, i]) for i in range(p.shape[1])])[s:]\n",
    "\n",
    "plt.figure(figsize=(20, 1))\n",
    "protein = [proteins[i] for i in raw[s:]]\n",
    "img = sns.heatmap(q.reshape(1, -1), cmap='Blues', xticklabels=False, yticklabels=False,\n",
    "                  annot=np.array(protein).reshape(1, -1), fmt='')"
   ]
  },
  {
   "cell_type": "code",
   "execution_count": null,
   "metadata": {},
   "outputs": [],
   "source": []
  }
 ],
 "metadata": {
  "hide_input": false,
  "kernelspec": {
   "display_name": "bert",
   "language": "python",
   "name": "bert"
  },
  "language_info": {
   "codemirror_mode": {
    "name": "ipython",
    "version": 3
   },
   "file_extension": ".py",
   "mimetype": "text/x-python",
   "name": "python",
   "nbconvert_exporter": "python",
   "pygments_lexer": "ipython3",
   "version": "3.6.9"
  }
 },
 "nbformat": 4,
 "nbformat_minor": 2
}
